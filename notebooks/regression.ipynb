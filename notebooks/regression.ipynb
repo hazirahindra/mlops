{
 "cells": [
  {
   "cell_type": "code",
   "execution_count": null,
   "metadata": {},
   "outputs": [],
   "source": []
  }
 ],
 "metadata": {
  "kernelspec": {
   "display_name": "Python 3.11.0 64-bit",
   "language": "python",
   "name": "python3"
  },
  "language_info": {
   "name": "python",
   "version": "3.11.0"
  },
  "orig_nbformat": 4,
  "vscode": {
   "interpreter": {
    "hash": "76d9f0e1323a1e5dd1f85ef7f49841b1c8273a352662bc6e842ad6e1037aea7d"
   }
  }
 },
 "nbformat": 4,
 "nbformat_minor": 2
}
